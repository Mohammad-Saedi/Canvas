{
 "cells": [
  {
   "cell_type": "markdown",
   "metadata": {},
   "source": [
    "<h1 style='color: #C9C9C9'>Machine Learning with Python<img style=\"float: right; margin-top: 0;\" width=\"240\" src=\"../../Images/cf-logo.png\" /></h1> \n",
    "<p style='color: #C9C9C9'>&copy; Coding Fury 2022 - all rights reserved</p>\n",
    "\n",
    "<hr style='color: #C9C9C9' />"
   ]
  },
  {
   "cell_type": "markdown",
   "metadata": {},
   "source": [
    "# Cross Validation\n",
    "\n",
    "Why do we need cross-validation? \n",
    "\n",
    "* in case the test data isn't representative of the overall test\n",
    "\n",
    "\n",
    "We're going to split our data into 5 groups or \"folds\". \n",
    "\n",
    "* Fold 1 will be a test set. \n",
    "* Folds 2,3,4,5 will be used to fit our model\n",
    "* Compute the Error = either $R^2$ or MSE\n",
    "\n",
    "Then we do this 5 times in total, each time changing the test set, so that folds 1, 2, 3, 4, and 5 each get their turn at being the test set, with the data fitted on the other folds.\n",
    "\n",
    "This is 5-fold cross validation. Although the number of folds you choose is up to you. In general, we call this k-folds cross validation (k-folds CV)."
   ]
  },
  {
   "cell_type": "code",
   "execution_count": 1,
   "metadata": {},
   "outputs": [],
   "source": [
    "import pandas as pd\n",
    "import numpy as np\n",
    "import matplotlib.pyplot as plt\n",
    "from sklearn.linear_model import LinearRegression\n",
    "from sklearn.model_selection import train_test_split\n",
    "\n",
    "from sklearn.model_selection import cross_val_score, KFold\n"
   ]
  },
  {
   "cell_type": "code",
   "execution_count": 2,
   "metadata": {},
   "outputs": [
    {
     "data": {
      "text/plain": [
       "0.38686327140864907"
      ]
     },
     "execution_count": 2,
     "metadata": {},
     "output_type": "execute_result"
    }
   ],
   "source": [
    "tips_df = pd.read_csv('../../Data/tips.csv')\n",
    "\n",
    "X = tips_df['tip'].values.reshape(-1,1)  # this could have been done: happiness_df[['income']].values\n",
    "y = tips_df['total_bill'].values\n",
    "\n",
    "X_train, X_test, y_train, y_test = train_test_split(X, y, test_size=0.3, random_state=21)\n",
    "\n",
    "model = LinearRegression()\n",
    "model.fit(X, y)\n",
    "model.fit(X_train, y_train)\n",
    "model.score(X_test, y_test) # The R^2 value for this model"
   ]
  },
  {
   "cell_type": "code",
   "execution_count": 3,
   "metadata": {},
   "outputs": [],
   "source": [
    "kf = KFold(n_splits=6, shuffle=True, random_state=42)\n",
    "model = LinearRegression()\n",
    "cv_results = cross_val_score(model, X, y, cv=kf) # R^2 is the default"
   ]
  },
  {
   "cell_type": "code",
   "execution_count": 4,
   "metadata": {},
   "outputs": [
    {
     "name": "stdout",
     "output_type": "stream",
     "text": [
      "0.42640467656975733 0.17243184651433097\n"
     ]
    }
   ],
   "source": [
    "print(np.mean(cv_results), np.std(cv_results))"
   ]
  },
  {
   "cell_type": "code",
   "execution_count": 5,
   "metadata": {},
   "outputs": [
    {
     "name": "stdout",
     "output_type": "stream",
     "text": [
      "[0.11023129 0.56851096]\n"
     ]
    }
   ],
   "source": [
    "print(np.quantile(cv_results, [0.025, 0.975])) # The 95% confidence interval of R^2"
   ]
  },
  {
   "cell_type": "code",
   "execution_count": null,
   "metadata": {},
   "outputs": [],
   "source": []
  }
 ],
 "metadata": {
  "kernelspec": {
   "display_name": "Python 3.10.4 64-bit",
   "language": "python",
   "name": "python3"
  },
  "language_info": {
   "codemirror_mode": {
    "name": "ipython",
    "version": 3
   },
   "file_extension": ".py",
   "mimetype": "text/x-python",
   "name": "python",
   "nbconvert_exporter": "python",
   "pygments_lexer": "ipython3",
   "version": "3.10.4"
  },
  "orig_nbformat": 4,
  "vscode": {
   "interpreter": {
    "hash": "7e1998ff7f8aa20ada591c520b972326324e5ea05489af9e422744c7c09f6dad"
   }
  }
 },
 "nbformat": 4,
 "nbformat_minor": 2
}
