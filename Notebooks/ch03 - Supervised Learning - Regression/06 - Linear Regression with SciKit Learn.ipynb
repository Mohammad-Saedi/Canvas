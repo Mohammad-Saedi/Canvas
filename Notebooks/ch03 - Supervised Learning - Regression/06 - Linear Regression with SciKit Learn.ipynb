{
 "cells": [
  {
   "cell_type": "markdown",
   "id": "23dcca9b-3523-453e-9cc7-26bfcaa0f018",
   "metadata": {},
   "source": [
    "<h1 style='color: #C9C9C9'>Machine Learning with Python<img style=\"float: right; margin-top: 0;\" width=\"240\" src=\"../../Images/cf-logo.png\" /></h1> \n",
    "<p style='color: #C9C9C9'>&copy; Coding Fury 2022 - all rights reserved</p>\n",
    "\n",
    "<hr style='color: #C9C9C9' />"
   ]
  },
  {
   "cell_type": "markdown",
   "id": "a1e8a3fd-0c32-4e83-b2b0-f0962f59b9da",
   "metadata": {},
   "source": [
    "# Simple Linear Regression\n",
    "\n",
    "## What is Linear Regression? \n",
    "\n",
    "**Regression** is about finding the line of best fit through many points on a chart. \n",
    "\n",
    "When we use a **Linear Regression** alogorithm we're looking for the best straight line **straight line** through the points. If the relationship between your data are not a straight line, you may need to use a different algorithm such as logistic regression or nonlinear regression. \n",
    "\n",
    "Linear Regression should be familar to you. You'll probably recall gathering data and plotting charts in GCSE Science experiments? You might have collected 10 readings in a double period, but by drawing a line of best fit you'd be able to infer what the data at other points might be. i.e. you'd be able to predict what other values might be along the line.\n",
    "\n",
    "![Best Fit](../../Images/best-fit.png)\n",
    "\n",
    "In Machine Learning, we refer to the data along the X axis as a \"feature\" and the data along the y axis as the \"target variable\".\n",
    "\n",
    "In GCSE Science you'd have called the variable on the X axis the \"independent variable\", although we'll call it a feature. And, you'd have called the variable on the Y axis the \"dependent variable\", but we'll call it the \"target variable\". \n",
    "\n",
    "In essence, this means you were generally dealing with 2 columns of data at GCSE. \n",
    "\n",
    "As we progress through this course, you'll eventually use more complex data that has additional columns of data. \n",
    "\n",
    "In Machine Learning you can have as many columns of input data (features) as you like, but you can only have one output variable, i.e one target variable.\n",
    "\n",
    "This tutorial focuses on **Simple Linear Regression** i.e. we'll find a straight line of best fit for 2 columns of data (one feature and a target variable). "
   ]
  },
  {
   "cell_type": "markdown",
   "id": "ea1b1bab-5269-4990-9a03-c31f8e0a9221",
   "metadata": {},
   "source": [
    "# Example Data - Happiness index\n",
    "\n",
    "Money can't buy happiness? Right? \n",
    "\n",
    "In this example we're going to put this to the test, by loading data that compares yearly income to a happiness index.\n",
    "\n",
    "> This example was created using data from an R tutorial that's available here:\n",
    "> https://www.scribbr.com/statistics/simple-linear-regression/\n"
   ]
  },
  {
   "cell_type": "markdown",
   "id": "24ef34cc-6167-476a-bd9a-b9fab2afc4b0",
   "metadata": {},
   "source": [
    "## Load the data\n"
   ]
  },
  {
   "cell_type": "code",
   "execution_count": null,
   "id": "6d6ebfdf",
   "metadata": {},
   "outputs": [],
   "source": [
    "import pandas as pd\n",
    "happiness_df = pd.read_csv('../../Data/income_data.csv')\n",
    "happiness_df"
   ]
  },
  {
   "cell_type": "markdown",
   "id": "2f54b46d",
   "metadata": {},
   "source": [
    "## Plot the data on a scatter to see if it's suitable for Linear Regression"
   ]
  },
  {
   "cell_type": "code",
   "execution_count": null,
   "id": "8e323626",
   "metadata": {},
   "outputs": [],
   "source": [
    "happiness_df.plot('income', 'happiness', kind='scatter')\n"
   ]
  },
  {
   "cell_type": "markdown",
   "id": "faec675c",
   "metadata": {},
   "source": [
    "According to the data there is a strong correlation between salary and happiness. \n",
    "\n",
    "While I'm not sure of the providence of this particular dataset there have been other studies that concur (see datasets on https://data.world). \n",
    "\n",
    "Nevertheless, this is a nice, simple dataset for your first attempt at linear regression. \n",
    "\n",
    "Let's see if we can get a line of best fit through the points. \n",
    "\n",
    "### Steps\n",
    "\n",
    "Do you remember the four steps for machine learning with SciKit Learn? \n",
    "\n",
    "```\n",
    "1. from sckitlearn.module import Model\n",
    "2. model = Model()\n",
    "3. model.fit(X,y)\n",
    "4. predictions = model.predict(new_X) \n",
    "````\n",
    "Note: the code above won't run but it does show the steps!\n",
    "\n",
    "### Rules\n",
    "\n",
    "Do you remember the rules of Machine Learning with SciKit Learn?\n",
    "\n",
    "SciKit Learn requires:\n",
    "1. numerical data\n",
    "2. no missing data\n",
    "3. a numpy array of data\n",
    "\n",
    "Let's quickly test if our dataset meets these criteria."
   ]
  },
  {
   "cell_type": "markdown",
   "id": "945a918a",
   "metadata": {},
   "source": [
    "### Checking the dataset for missing values and numberical data"
   ]
  },
  {
   "cell_type": "code",
   "execution_count": null,
   "id": "9368666f",
   "metadata": {},
   "outputs": [],
   "source": [
    "happiness_df.info()"
   ]
  },
  {
   "cell_type": "markdown",
   "id": "cc566e18",
   "metadata": {},
   "source": [
    "Good Result!\n",
    "* both columns contain numbers\n",
    "* both columns are \"non-null\" (there are no empty cells in the table of data we imported)\n",
    "\n",
    "Just remember to convert the dataframe columns to numpy arrays when passing them to the model."
   ]
  },
  {
   "cell_type": "markdown",
   "id": "0c4241f8",
   "metadata": {},
   "source": [
    "## Training the Model \n",
    "\n",
    "### 1. Import the Model"
   ]
  },
  {
   "cell_type": "code",
   "execution_count": null,
   "id": "b3ef4cfb",
   "metadata": {},
   "outputs": [],
   "source": [
    "from sklearn.linear_model import LinearRegression"
   ]
  },
  {
   "cell_type": "markdown",
   "id": "01b0c89c",
   "metadata": {},
   "source": [
    "### 2. Create a Linear Regression Model Object"
   ]
  },
  {
   "cell_type": "code",
   "execution_count": null,
   "id": "f9028f91",
   "metadata": {},
   "outputs": [],
   "source": [
    "model = LinearRegression()"
   ]
  },
  {
   "cell_type": "markdown",
   "id": "2330df86",
   "metadata": {},
   "source": [
    "### 3. Train the Model (i.e. fit the data to the model)\n",
    "\n",
    "The code is ```model.fit(X,y)``` however there are a couple of things we need to do first. \n",
    "\n",
    "Remember - SciKit Learn requires:\n",
    "1. numerical data\n",
    "2. no missing data\n",
    "3. a numpy array of data\n",
    "\n",
    "In this case the data is all numerical, and doesn't have missing values. However, we do need to make it into a numpy array. "
   ]
  },
  {
   "cell_type": "markdown",
   "id": "d8d9be7d",
   "metadata": {},
   "source": [
    "#### 3.1 Getting the features - Method 1"
   ]
  },
  {
   "cell_type": "code",
   "execution_count": null,
   "id": "946e2cd4",
   "metadata": {},
   "outputs": [],
   "source": [
    "X = happiness_df['income'].values  # get the values from the income column as a numpy array\n",
    "X"
   ]
  },
  {
   "cell_type": "code",
   "execution_count": null,
   "id": "cd04d894",
   "metadata": {},
   "outputs": [],
   "source": [
    "# Let's check the shape of X\n",
    "X.shape\n"
   ]
  },
  {
   "cell_type": "markdown",
   "id": "647ffabc",
   "metadata": {},
   "source": [
    "This tells us is that the shape of X is 498 items, and isn't organised into columns.\n",
    "\n",
    "We need to reshape the feature data so that it's a single column with lots of rows. \n",
    "\n"
   ]
  },
  {
   "cell_type": "code",
   "execution_count": null,
   "id": "bd131808",
   "metadata": {},
   "outputs": [],
   "source": [
    "X = happiness_df['income'].values.reshape(-1,1)  \n",
    "X"
   ]
  },
  {
   "cell_type": "markdown",
   "id": "9e45aea2",
   "metadata": {},
   "source": [
    "#### 3.2 Getting the features from a dataframe with 1-column\n",
    "\n",
    "It's worth noting that a single column of a table is a series"
   ]
  },
  {
   "cell_type": "code",
   "execution_count": null,
   "id": "338d584c",
   "metadata": {},
   "outputs": [],
   "source": [
    "happiness_df['income']"
   ]
  },
  {
   "cell_type": "code",
   "execution_count": null,
   "id": "b010c250",
   "metadata": {},
   "outputs": [],
   "source": [
    "type(happiness_df['income'])"
   ]
  },
  {
   "cell_type": "code",
   "execution_count": null,
   "id": "3dd3cc43",
   "metadata": {},
   "outputs": [],
   "source": [
    "happiness_df[['income']]"
   ]
  },
  {
   "cell_type": "code",
   "execution_count": null,
   "id": "aa4ca4dd",
   "metadata": {},
   "outputs": [],
   "source": [
    "type(happiness_df[['income']])"
   ]
  },
  {
   "cell_type": "code",
   "execution_count": null,
   "id": "e95b7070",
   "metadata": {},
   "outputs": [],
   "source": [
    "X = happiness_df[['income']].values\n",
    "X"
   ]
  },
  {
   "cell_type": "markdown",
   "id": "9ec16e25",
   "metadata": {},
   "source": [
    "The target value (y) is expected to be a single column, so we don't have to reshape it"
   ]
  },
  {
   "cell_type": "markdown",
   "id": "2c191cd4",
   "metadata": {},
   "source": [
    "### 4. Get the Target Value as a Numpy Array"
   ]
  },
  {
   "cell_type": "code",
   "execution_count": null,
   "id": "814e868a",
   "metadata": {},
   "outputs": [],
   "source": [
    "y = happiness_df['happiness'].values"
   ]
  },
  {
   "cell_type": "code",
   "execution_count": null,
   "id": "9d850ff6",
   "metadata": {},
   "outputs": [],
   "source": [
    "model.fit(X,y)"
   ]
  },
  {
   "cell_type": "markdown",
   "id": "e933bfbf",
   "metadata": {},
   "source": [
    "### 5. Let's make predictions\n",
    "\n",
    "Make predictions for the each of the following salarie: \n",
    "£20000\n",
    "£40000\n",
    "£60000 \n",
    "\n",
    "Exercise\n",
    "1. Modify the code below, to make the predictions one at a time (run the cell 3 times with different values)\n",
    "2. Modify the code below to make all 3 predictions in one step (run the cell 1 time to make 3 predictions) "
   ]
  },
  {
   "cell_type": "code",
   "execution_count": null,
   "id": "5c39ea5b",
   "metadata": {},
   "outputs": [],
   "source": [
    "import numpy as np\n",
    "\n",
    "salary_in_thousands = [20]\n",
    "new_X = np.array(salary_in_thousands).reshape(-1,1)\n"
   ]
  },
  {
   "cell_type": "code",
   "execution_count": null,
   "id": "80fc9fee",
   "metadata": {},
   "outputs": [],
   "source": [
    "model.predict(new_X)"
   ]
  },
  {
   "cell_type": "markdown",
   "id": "0cd88888",
   "metadata": {},
   "source": [
    "# Visualise the model & plot the line of best fit\n",
    "\n",
    "**1) Let's visualise our data one more time**"
   ]
  },
  {
   "cell_type": "code",
   "execution_count": null,
   "id": "28ffaba4",
   "metadata": {},
   "outputs": [],
   "source": [
    "import matplotlib.pyplot as plt\n",
    "plt.scatter(X, y)\n",
    "plt.show()"
   ]
  },
  {
   "cell_type": "markdown",
   "id": "a03dfff5",
   "metadata": {},
   "source": [
    "**2) Generate points along the lines of best fit by making predictions**"
   ]
  },
  {
   "cell_type": "code",
   "execution_count": null,
   "id": "963c950c",
   "metadata": {},
   "outputs": [],
   "source": [
    "new_X = np.arange(1, 80).reshape(-1,1)\n"
   ]
  },
  {
   "cell_type": "code",
   "execution_count": null,
   "id": "217f8d97",
   "metadata": {},
   "outputs": [],
   "source": [
    "new_y = model.predict(new_X)"
   ]
  },
  {
   "cell_type": "code",
   "execution_count": null,
   "id": "0cf9a1d5",
   "metadata": {},
   "outputs": [],
   "source": []
  },
  {
   "cell_type": "markdown",
   "id": "f2f23558",
   "metadata": {},
   "source": [
    "**3) make a new plot with the line of best fit overlayed**"
   ]
  },
  {
   "cell_type": "code",
   "execution_count": null,
   "id": "8d779c42",
   "metadata": {},
   "outputs": [],
   "source": [
    "plt.cla() # clear previous plot from memory\n",
    "plt.scatter(X, y)\n",
    "plt.plot(new_X, new_y, color='red')\n",
    "plt.show()"
   ]
  },
  {
   "cell_type": "markdown",
   "id": "5c83324e",
   "metadata": {},
   "source": [
    "# Summary \n",
    "\n",
    "Linear Regression finds a line of best fit through your data.\n",
    "\n",
    "This tutorial an example of Simple Linear Regression - with only 2 variables that can easily be plotted on an X and Y axis. \n",
    "\n",
    "At GCSE you'd have said that the data follows the pattern $ y=mx+c $, however, in Data Science we tend to write: \n",
    "\n",
    "$ y=ax+b $\n",
    "\n",
    "In the next tutorial we'll look at Multiple Linear Regression, and learn how to deal with more columns of input data (i.e. more than one feature).\n",
    "\n",
    "\n"
   ]
  },
  {
   "cell_type": "markdown",
   "id": "9c61f5e9",
   "metadata": {},
   "source": []
  }
 ],
 "metadata": {
  "kernelspec": {
   "display_name": "Python 3 (ipykernel)",
   "language": "python",
   "name": "python3"
  },
  "language_info": {
   "codemirror_mode": {
    "name": "ipython",
    "version": 3
   },
   "file_extension": ".py",
   "mimetype": "text/x-python",
   "name": "python",
   "nbconvert_exporter": "python",
   "pygments_lexer": "ipython3",
   "version": "3.10.4"
  },
  "vscode": {
   "interpreter": {
    "hash": "7e1998ff7f8aa20ada591c520b972326324e5ea05489af9e422744c7c09f6dad"
   }
  }
 },
 "nbformat": 4,
 "nbformat_minor": 5
}
